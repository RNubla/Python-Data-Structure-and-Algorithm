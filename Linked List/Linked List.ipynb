{
 "metadata": {
  "language_info": {
   "codemirror_mode": {
    "name": "ipython",
    "version": 3
   },
   "file_extension": ".py",
   "mimetype": "text/x-python",
   "name": "python",
   "nbconvert_exporter": "python",
   "pygments_lexer": "ipython3",
   "version": 3
  },
  "orig_nbformat": 2,
  "kernelspec": {
   "name": "python_defaultSpec_1596667975637",
   "display_name": "Python 3.6.10 64-bit ('leetcode': conda)"
  }
 },
 "nbformat": 4,
 "nbformat_minor": 2,
 "cells": [
  {
   "cell_type": "code",
   "execution_count": 1,
   "metadata": {},
   "outputs": [],
   "source": [
    "class Node: \n",
    "    def __init__(self, data):\n",
    "        self.data = data\n",
    "        self.next = None"
   ]
  },
  {
   "cell_type": "code",
   "execution_count": 2,
   "metadata": {},
   "outputs": [],
   "source": [
    "class LinkedList:\n",
    "    def __init__(self):\n",
    "        self.head = None\n",
    "    \n",
    "    def print_list(self):\n",
    "        current_node = self.head\n",
    "        while current_node:\n",
    "            print(current_node.data)\n",
    "            current_node = current_node.next\n",
    "    \n",
    "    def append(self, data):\n",
    "        new_node = Node(data)\n",
    "\n",
    "        if self.head is None:\n",
    "            self.head = new_node\n",
    "            return\n",
    "\n",
    "        last_node = self.head\n",
    "        while last_node.next:\n",
    "            last_node = last_node.next\n",
    "        last_node.next = new_node\n",
    "    \n",
    "    def prepend(self, data):\n",
    "        new_node = Node(data)\n",
    "        new_node.next = self.head\n",
    "        self.head = new_node\n",
    "\n",
    "    def insert_after_node(self, prev_node, data):\n",
    "        if not prev_node:\n",
    "            print(\"Prev node is not in the list\")\n",
    "        \n",
    "        new_node = Node(data)\n",
    "        new_node.next = prev_node.next\n",
    "        prev_node.next = new_node\n",
    "\n",
    "    def delete_node(self, key):\n",
    "        current_node = self.head\n",
    "        # if current_node is not null and current_node.data == key\n",
    "        if current_node and current_node.data == key:\n",
    "            self.head = current_node.next\n",
    "            current_node = None\n",
    "        prev_node = None\n",
    "        while current_node and current_node.data != key:\n",
    "            prev_node = current_node\n",
    "            current_node = current_node. next\n",
    "\n",
    "        if current_node is None:\n",
    "            return\n",
    "        prev_node.next = current_node.next\n",
    "        current_node = None\n",
    "\n",
    "    def delete_node_position(self, index):\n",
    "        current_node = self.head\n",
    "        \n",
    "        if index == 0:\n",
    "            self.head = current_node.next\n",
    "            current_node = None\n",
    "            return\n",
    "        prev_node = None\n",
    "\n",
    "        count = 1\n",
    "        while current_node and count != index:\n",
    "            prev_node = current_node\n",
    "            current_node = current_node.next\n",
    "            count += 1\n",
    "\n",
    "        if current_node is None:\n",
    "            return\n",
    "        prev_node.next = current_node.next\n",
    "        current_node = None"
   ]
  },
  {
   "cell_type": "code",
   "execution_count": 3,
   "metadata": {
    "tags": []
   },
   "outputs": [
    {
     "output_type": "stream",
     "name": "stdout",
     "text": "A\nC\n"
    }
   ],
   "source": [
    "llist = LinkedList()\n",
    "llist.append(\"A\")\n",
    "llist.append(\"B\")\n",
    "llist.append(\"C\")\n",
    "llist.append(\"D\")\n",
    "# llist.append(\"F\")\n",
    "# llist.append(\"G\")\n",
    "# llist.prepend(\"E\")\n",
    "llist.delete_node(\"B\")\n",
    "llist.delete_node_position(3)\n",
    "# llist.insert_after_node(llist.head.next.next.next,'I')\n",
    "# llist.insert_after_node(llist.head.next, \"E\")\n",
    "llist.print_list()"
   ]
  },
  {
   "cell_type": "code",
   "execution_count": null,
   "metadata": {},
   "outputs": [],
   "source": []
  }
 ]
}